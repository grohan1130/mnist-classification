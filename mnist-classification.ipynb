{
 "cells": [
  {
   "cell_type": "markdown",
   "id": "9b336b4e-adee-489c-833f-0f6cbad85ca4",
   "metadata": {},
   "source": [
    "### Importing Libraries and Functions\n",
    "\n",
    "- numpy: for handling large, multi-dimensional arrays and mathematical functions on arrays\n",
    "- Keras: for building and training our deep learning models\n",
    "- mnist: MNIST dataset of handwritten digits (grayscale values of 28x28 pixel images stored as arrays with their corresponding labels)\n",
    "- matplotlib: for creating static, interactive, and animated plots of our data and models\n",
    "- to_categorical: for encoding data (in our case, output labels)"
   ]
  },
  {
   "cell_type": "code",
   "execution_count": 149,
   "id": "dac9e54b-37a7-4049-9b61-2222ac35bd76",
   "metadata": {},
   "outputs": [],
   "source": [
    "import numpy as np\n",
    "from tensorflow import keras\n",
    "from keras.datasets import mnist\n",
    "import matplotlib.pyplot as plt\n",
    "from keras.utils import to_categorical\n",
    "from keras.models import Sequential\n",
    "from keras.layers import Dense, Input, Dropout"
   ]
  },
  {
   "cell_type": "markdown",
   "id": "52e91762-7066-4630-a37b-8622c70d4430",
   "metadata": {},
   "source": [
    "### Loading and Characterizing Dataset\n",
    "\n",
    "#### Describing our training and test data\n",
    "\n",
    "- train_images: NumPy array of grayscale image data with shapes (60000, 28, 28), containing the training data. Pixel values range from 0 to 255.\n",
    "- train_labels: NumPy array of digit labels (integers in range 0-9) with shape (60000,) for the training data.\n",
    "- test_images: NumPy array of grayscale image data with shapes (10000, 28, 28), containing the test data. Pixel values range from 0 to 255.\n",
    "- test_labels: NumPy array of digit labels (integers in range 0-9) with shape (10000,) for the test data."
   ]
  },
  {
   "cell_type": "code",
   "execution_count": 150,
   "id": "52427986-83cf-48af-a40f-460e8401a04a",
   "metadata": {},
   "outputs": [
    {
     "name": "stdout",
     "output_type": "stream",
     "text": [
      "training set: ((60000, 28, 28), (60000,))\n",
      "test set: ((10000, 28, 28), (10000,))\n"
     ]
    }
   ],
   "source": [
    "(train_images, train_labels), (test_images, test_labels) = mnist.load_data()\n",
    "print(f\"training set: {train_images.shape, train_labels.shape}\")\n",
    "print(f\"test set: {test_images.shape, test_labels.shape}\")"
   ]
  },
  {
   "cell_type": "markdown",
   "id": "bd9e8c05-a479-488f-9bb0-7178547f740f",
   "metadata": {},
   "source": [
    "#### Example of 1 Training Instance\n",
    "\n",
    "- train_images[0] is the first data point in our training set. This point has a 28x28 NumPy array, where each element is a grayscale value for its corresponding pixel. There are 60000 more data points in our set\n",
    "- train_labels[0] is the corresponding label of our first data point. Each of the 60000 data points in our training set has a corresponding label. "
   ]
  },
  {
   "cell_type": "code",
   "execution_count": 151,
   "id": "c01299d0-001f-4dbe-8b42-4ae2d72c570d",
   "metadata": {},
   "outputs": [
    {
     "data": {
      "image/png": "[encoded data removed]",
      "text/plain": [
       "<Figure size 640x480 with 1 Axes>"
      ]
     },
     "metadata": {},
     "output_type": "display_data"
    },
    {
     "name": "stdout",
     "output_type": "stream",
     "text": [
      "Corresponding label: 5\n"
     ]
    }
   ],
   "source": [
    "plt.imshow(train_images[0], cmap = 'gray')\n",
    "plt.show()\n",
    "print(f\"Corresponding label: {train_labels[0]}\")"
   ]
  },
  {
   "cell_type": "markdown",
   "id": "77259f09-e709-40a8-b77a-8fc0c5b504eb",
   "metadata": {},
   "source": [
    "### Data Normalization\n",
    "\n",
    "- Each data point's 28x28 array contains grayscale values between 0 and 255.\n",
    "- We divide each of these values by 255 to adjust the range of values to [0,1]"
   ]
  },
  {
   "cell_type": "code",
   "execution_count": 152,
   "id": "a58b15b0-abc5-4388-99a1-eeca244712fd",
   "metadata": {},
   "outputs": [],
   "source": [
    "train_images = train_images / 255\n",
    "test_images = test_images / 255"
   ]
  },
  {
   "cell_type": "markdown",
   "id": "2024238f-e529-48bf-b307-2cadc1553449",
   "metadata": {},
   "source": [
    "### Label Encoding\n",
    "\n",
    "- Training and test labels are one-hot encoded\n",
    "- Ex: if training_labels[0] is originally 5, it will now be encoded to [0, 0, 0, 0, 0, 1, 0, 0, 0 ,0]"
   ]
  },
  {
   "cell_type": "code",
   "execution_count": 153,
   "id": "079cec18-c860-4020-8c2b-2382950c325b",
   "metadata": {},
   "outputs": [],
   "source": [
    "encoded_train_labels = to_categorical(train_labels, 10)\n",
    "encoded_test_labels = to_categorical(test_labels, 10)"
   ]
  },
  {
   "cell_type": "markdown",
   "id": "594a237f-35c6-4159-8c20-89704ee4e760",
   "metadata": {},
   "source": [
    "### Flattening Our Training Data Input Vector"
   ]
  },
  {
   "cell_type": "code",
   "execution_count": 154,
   "id": "2436cdf8-2a1c-45c5-a6b1-bef63e7cc1a5",
   "metadata": {},
   "outputs": [],
   "source": [
    "num_training_samples, image_pixel_rows, image_pixel_columns = train_images.shape\n",
    "train_images = train_images.reshape(num_training_samples, image_pixel_rows * image_pixel_columns)"
   ]
  },
  {
   "cell_type": "markdown",
   "id": "a98e1a4b-865b-4d5d-a5c1-1f7a457c2599",
   "metadata": {},
   "source": [
    "### Defining NN Model"
   ]
  },
  {
   "cell_type": "code",
   "execution_count": 155,
   "id": "9ee4e20d-f853-4668-ac7e-3db4ddab27ef",
   "metadata": {},
   "outputs": [],
   "source": [
    "model = Sequential([\n",
    "    Input(shape=(image_pixel_rows * image_pixel_columns,)), \n",
    "    Dense(256, activation = 'relu'),\n",
    "    Dropout(0.3),\n",
    "    Dense(128, activation = 'relu'),\n",
    "    Dropout(0.3),\n",
    "    Dense(64, activation = 'relu'),\n",
    "    Dense(10, activation = 'softmax')\n",
    "])"
   ]
  },
  {
   "cell_type": "markdown",
   "id": "30510e85-ef39-4749-98dc-255cc3eebf40",
   "metadata": {},
   "source": [
    "### Model Training"
   ]
  },
  {
   "cell_type": "code",
   "execution_count": 156,
   "id": "55155ced-cec0-4b7a-8d89-d3900a1f8bb2",
   "metadata": {},
   "outputs": [],
   "source": [
    "model.compile(optimizer = 'adam', \n",
    "              loss = 'categorical_crossentropy')"
   ]
  },
  {
   "cell_type": "code",
   "execution_count": 157,
   "id": "ad94a590-b8b5-4b23-a3df-a4c938c4f95e",
   "metadata": {},
   "outputs": [
    {
     "name": "stdout",
     "output_type": "stream",
     "text": [
      "Epoch 1/8\n",
      "\u001b[1m1875/1875\u001b[0m \u001b[32m━━━━━━━━━━━━━━━━━━━━\u001b[0m\u001b[37m\u001b[0m \u001b[1m5s\u001b[0m 2ms/step - loss: 0.5394\n",
      "Epoch 2/8\n",
      "\u001b[1m1875/1875\u001b[0m \u001b[32m━━━━━━━━━━━━━━━━━━━━\u001b[0m\u001b[37m\u001b[0m \u001b[1m6s\u001b[0m 3ms/step - loss: 0.1672\n",
      "Epoch 3/8\n",
      "\u001b[1m1875/1875\u001b[0m \u001b[32m━━━━━━━━━━━━━━━━━━━━\u001b[0m\u001b[37m\u001b[0m \u001b[1m5s\u001b[0m 3ms/step - loss: 0.1317\n",
      "Epoch 4/8\n",
      "\u001b[1m1875/1875\u001b[0m \u001b[32m━━━━━━━━━━━━━━━━━━━━\u001b[0m\u001b[37m\u001b[0m \u001b[1m6s\u001b[0m 3ms/step - loss: 0.1127\n",
      "Epoch 5/8\n",
      "\u001b[1m1875/1875\u001b[0m \u001b[32m━━━━━━━━━━━━━━━━━━━━\u001b[0m\u001b[37m\u001b[0m \u001b[1m4s\u001b[0m 2ms/step - loss: 0.0968\n",
      "Epoch 6/8\n",
      "\u001b[1m1875/1875\u001b[0m \u001b[32m━━━━━━━━━━━━━━━━━━━━\u001b[0m\u001b[37m\u001b[0m \u001b[1m5s\u001b[0m 3ms/step - loss: 0.0852\n",
      "Epoch 7/8\n",
      "\u001b[1m1875/1875\u001b[0m \u001b[32m━━━━━━━━━━━━━━━━━━━━\u001b[0m\u001b[37m\u001b[0m \u001b[1m5s\u001b[0m 2ms/step - loss: 0.0770\n",
      "Epoch 8/8\n",
      "\u001b[1m1875/1875\u001b[0m \u001b[32m━━━━━━━━━━━━━━━━━━━━\u001b[0m\u001b[37m\u001b[0m \u001b[1m6s\u001b[0m 3ms/step - loss: 0.0741\n"
     ]
    },
    {
     "data": {
      "text/plain": [
       "<keras.src.callbacks.history.History at 0x333927390>"
      ]
     },
     "execution_count": 157,
     "metadata": {},
     "output_type": "execute_result"
    }
   ],
   "source": [
    "model.fit(train_images, encoded_train_labels, epochs = 8, batch_size = 32)"
   ]
  },
  {
   "cell_type": "markdown",
   "id": "8854ef98-eb5c-4ebe-a35f-5f5d9b78b73e",
   "metadata": {},
   "source": [
    "### Flattening Our Testing Data Input Vector"
   ]
  },
  {
   "cell_type": "code",
   "execution_count": 158,
   "id": "7949ba80-ad8f-4c21-b9a8-1cd178fe4c66",
   "metadata": {},
   "outputs": [],
   "source": [
    "num_testing_samples, _, _ = test_images.shape\n",
    "test_images = test_images.reshape(num_testing_samples, image_pixel_rows * image_pixel_columns)"
   ]
  },
  {
   "cell_type": "markdown",
   "id": "8ca38f63-77a3-44cd-823c-9ba3ebb265df",
   "metadata": {},
   "source": [
    "### Evaluating Model Performance on Test Data"
   ]
  },
  {
   "cell_type": "code",
   "execution_count": 159,
   "id": "b8739453-43aa-4eec-8ec9-4e2d505ae514",
   "metadata": {},
   "outputs": [
    {
     "name": "stdout",
     "output_type": "stream",
     "text": [
      "\u001b[1m313/313\u001b[0m \u001b[32m━━━━━━━━━━━━━━━━━━━━\u001b[0m\u001b[37m\u001b[0m \u001b[1m0s\u001b[0m 540us/step - loss: 0.1000\n",
      "0.08083915710449219\n"
     ]
    }
   ],
   "source": [
    "evaluation = model.evaluate(test_images, encoded_test_labels)\n",
    "print(evaluation)"
   ]
  },
  {
   "cell_type": "markdown",
   "id": "d4c89f74-8fbe-4749-bf1d-fc7285acdda9",
   "metadata": {},
   "source": [
    "### Using Learned Model to Predict the First 20 Test Samples"
   ]
  },
  {
   "cell_type": "code",
   "execution_count": 160,
   "id": "925bcf01-724c-4f2a-9e98-afe37bf44005",
   "metadata": {},
   "outputs": [
    {
     "name": "stdout",
     "output_type": "stream",
     "text": [
      "\u001b[1m1/1\u001b[0m \u001b[32m━━━━━━━━━━━━━━━━━━━━\u001b[0m\u001b[37m\u001b[0m \u001b[1m0s\u001b[0m 32ms/step\n",
      "Predictions for first 20 test points: [7 2 1 0 4 1 4 9 6 9 0 6 9 0 1 5 9 7 3 4]\n",
      "Real labels for first 20 test points: [7 2 1 0 4 1 4 9 5 9 0 6 9 0 1 5 9 7 3 4]\n"
     ]
    }
   ],
   "source": [
    "predictions = model.predict(test_images[:20,:])\n",
    "predictions_indices = predictions.argmax(1)\n",
    "\n",
    "print(f\"Predictions for first 20 test points: {predictions_indices}\")\n",
    "print(f\"Real labels for first 20 test points: {test_labels[:20]}\")"
   ]
  },
  {
   "cell_type": "code",
   "execution_count": null,
   "id": "405a2fc1-c3cb-4cd9-83af-2c26a3dfff32",
   "metadata": {},
   "outputs": [],
   "source": []
  }
 ],
 "metadata": {
  "kernelspec": {
   "display_name": "Python 3 (ipykernel)",
   "language": "python",
   "name": "python3"
  },
  "language_info": {
   "codemirror_mode": {
    "name": "ipython",
    "version": 3
   },
   "file_extension": ".py",
   "mimetype": "text/x-python",
   "name": "python",
   "nbconvert_exporter": "python",
   "pygments_lexer": "ipython3",
   "version": "3.11.4"
  }
 },
 "nbformat": 4,
 "nbformat_minor": 5
}
